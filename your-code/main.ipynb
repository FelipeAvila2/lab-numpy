{
 "cells": [
  {
   "cell_type": "markdown",
   "metadata": {},
   "source": [
    "# Intrduction to NumPy\n",
    "\n",
    "\n",
    "#### 1. Import NumPy under the name np."
   ]
  },
  {
   "cell_type": "code",
   "execution_count": 1,
   "metadata": {},
   "outputs": [],
   "source": [
    "# your code here\n",
    "import numpy as np"
   ]
  },
  {
   "cell_type": "markdown",
   "metadata": {},
   "source": [
    "#### 2. Print your NumPy version."
   ]
  },
  {
   "cell_type": "code",
   "execution_count": 2,
   "metadata": {},
   "outputs": [
    {
     "name": "stdout",
     "output_type": "stream",
     "text": [
      "1.19.2\n"
     ]
    }
   ],
   "source": [
    "# your code here\n",
    "\n",
    "print(np.version.version)"
   ]
  },
  {
   "cell_type": "markdown",
   "metadata": {},
   "source": [
    "#### 3. Generate a 2x3x5 3-dimensional array with random values. Assign the array to variable *a*.\n",
    "**Challenge**: there are at least three easy ways that use numpy to generate random arrays. How many ways can you find?"
   ]
  },
  {
   "cell_type": "code",
   "execution_count": 28,
   "metadata": {},
   "outputs": [
    {
     "data": {
      "text/plain": [
       "array([[[0.0128114 , 0.92039109, 0.20330219, 0.18537711, 0.85330668],\n",
       "        [0.1568059 , 0.31645932, 0.97561248, 0.93097352, 0.90644725],\n",
       "        [0.43469894, 0.15694354, 0.74663826, 0.63950427, 0.65167282]],\n",
       "\n",
       "       [[0.03668062, 0.32397787, 0.72241255, 0.27586052, 0.09042981],\n",
       "        [0.12452312, 0.93956808, 0.87186631, 0.75051532, 0.2342404 ],\n",
       "        [0.31506624, 0.9633675 , 0.51898155, 0.43470784, 0.40012241]]])"
      ]
     },
     "execution_count": 28,
     "metadata": {},
     "output_type": "execute_result"
    }
   ],
   "source": [
    "# Method 1\n",
    "\n",
    "a = rand2 = np.random.rand(2,3,5)\n",
    "a"
   ]
  },
  {
   "cell_type": "code",
   "execution_count": 27,
   "metadata": {},
   "outputs": [
    {
     "data": {
      "text/plain": [
       "array([[[ 0.45077071, -2.51020498, -1.3122317 ,  0.41636435,\n",
       "          0.23305855],\n",
       "        [ 0.27106841,  0.98552906,  0.37547123, -0.67370566,\n",
       "          1.04466626],\n",
       "        [ 1.47004088,  0.2896203 ,  0.78801254, -0.86453993,\n",
       "          0.81888224]],\n",
       "\n",
       "       [[-0.35411381,  0.48133379,  0.31195921,  0.84068887,\n",
       "          0.80752127],\n",
       "        [-0.07665791, -0.76260277, -0.93832138, -0.82124624,\n",
       "         -1.00168198],\n",
       "        [ 0.73884805, -0.60837219, -1.01856594, -0.27155835,\n",
       "          0.40457506]]])"
      ]
     },
     "execution_count": 27,
     "metadata": {},
     "output_type": "execute_result"
    }
   ],
   "source": [
    "# Method 2\n",
    "\n",
    "\n",
    "\n",
    "my_array = np.random.randn(2,3,5)\n",
    "my_array"
   ]
  },
  {
   "cell_type": "code",
   "execution_count": 26,
   "metadata": {},
   "outputs": [
    {
     "data": {
      "text/plain": [
       "array([[[93, 42, 36, 15, 58],\n",
       "        [97, 35, 39,  7, 36],\n",
       "        [76, 42, 88, 80,  4]],\n",
       "\n",
       "       [[28, 75, 92, 61, 51],\n",
       "        [86, 82,  4, 71, 26],\n",
       "        [14, 13, 40, 28, 59]]])"
      ]
     },
     "execution_count": 26,
     "metadata": {},
     "output_type": "execute_result"
    }
   ],
   "source": [
    "# Method 3\n",
    "\n",
    "my_array = np.random.randint(0,100,(2,3,5))\n",
    "my_array"
   ]
  },
  {
   "cell_type": "markdown",
   "metadata": {},
   "source": [
    "#### 4. Print *a*.\n"
   ]
  },
  {
   "cell_type": "code",
   "execution_count": 29,
   "metadata": {},
   "outputs": [
    {
     "data": {
      "text/plain": [
       "array([[[0.0128114 , 0.92039109, 0.20330219, 0.18537711, 0.85330668],\n",
       "        [0.1568059 , 0.31645932, 0.97561248, 0.93097352, 0.90644725],\n",
       "        [0.43469894, 0.15694354, 0.74663826, 0.63950427, 0.65167282]],\n",
       "\n",
       "       [[0.03668062, 0.32397787, 0.72241255, 0.27586052, 0.09042981],\n",
       "        [0.12452312, 0.93956808, 0.87186631, 0.75051532, 0.2342404 ],\n",
       "        [0.31506624, 0.9633675 , 0.51898155, 0.43470784, 0.40012241]]])"
      ]
     },
     "metadata": {},
     "output_type": "display_data"
    }
   ],
   "source": [
    "# your code here\n",
    "\n",
    "display(a)"
   ]
  },
  {
   "cell_type": "markdown",
   "metadata": {},
   "source": [
    "#### 5. Create a 5x2x3 3-dimensional array with all values equaling 1. Assign the array to variable *b*."
   ]
  },
  {
   "cell_type": "code",
   "execution_count": 30,
   "metadata": {},
   "outputs": [],
   "source": [
    "# your code here\n",
    "\n",
    "b = np.full((5,2,3),1)"
   ]
  },
  {
   "cell_type": "markdown",
   "metadata": {},
   "source": [
    "#### 6. Print *b*.\n"
   ]
  },
  {
   "cell_type": "code",
   "execution_count": 31,
   "metadata": {},
   "outputs": [
    {
     "data": {
      "text/plain": [
       "array([[[1, 1, 1],\n",
       "        [1, 1, 1]],\n",
       "\n",
       "       [[1, 1, 1],\n",
       "        [1, 1, 1]],\n",
       "\n",
       "       [[1, 1, 1],\n",
       "        [1, 1, 1]],\n",
       "\n",
       "       [[1, 1, 1],\n",
       "        [1, 1, 1]],\n",
       "\n",
       "       [[1, 1, 1],\n",
       "        [1, 1, 1]]])"
      ]
     },
     "metadata": {},
     "output_type": "display_data"
    }
   ],
   "source": [
    "# your code here\n",
    "\n",
    "display(b)"
   ]
  },
  {
   "cell_type": "markdown",
   "metadata": {},
   "source": [
    "#### 7. Do *a* and *b* have the same size? How do you prove that in Python code?"
   ]
  },
  {
   "cell_type": "code",
   "execution_count": 35,
   "metadata": {},
   "outputs": [
    {
     "data": {
      "text/plain": [
       "False"
      ]
     },
     "execution_count": 35,
     "metadata": {},
     "output_type": "execute_result"
    }
   ],
   "source": [
    "# your code here\n",
    "\n",
    "np.shape(a) == np.shape(b)"
   ]
  },
  {
   "cell_type": "markdown",
   "metadata": {},
   "source": [
    "#### 8. Are you able to add *a* and *b*? Why or why not?\n"
   ]
  },
  {
   "cell_type": "code",
   "execution_count": 36,
   "metadata": {},
   "outputs": [
    {
     "ename": "ValueError",
     "evalue": "operands could not be broadcast together with shapes (2,3,5) (5,2,3) ",
     "output_type": "error",
     "traceback": [
      "\u001b[1;31m---------------------------------------------------------------------------\u001b[0m",
      "\u001b[1;31mValueError\u001b[0m                                Traceback (most recent call last)",
      "\u001b[1;32m<ipython-input-36-70ac2ce9f46d>\u001b[0m in \u001b[0;36m<module>\u001b[1;34m\u001b[0m\n\u001b[0;32m      1\u001b[0m \u001b[1;31m# your answer here\u001b[0m\u001b[1;33m\u001b[0m\u001b[1;33m\u001b[0m\u001b[1;33m\u001b[0m\u001b[0m\n\u001b[0;32m      2\u001b[0m \u001b[1;33m\u001b[0m\u001b[0m\n\u001b[1;32m----> 3\u001b[1;33m \u001b[0ma\u001b[0m \u001b[1;33m+\u001b[0m \u001b[0mb\u001b[0m\u001b[1;33m\u001b[0m\u001b[1;33m\u001b[0m\u001b[0m\n\u001b[0m",
      "\u001b[1;31mValueError\u001b[0m: operands could not be broadcast together with shapes (2,3,5) (5,2,3) "
     ]
    }
   ],
   "source": [
    "# your answer here\n",
    "\n",
    "a + b\n",
    "\n",
    "# ValueError: operands could not be broadcast together with shapes (2,3,5) (5,2,3) "
   ]
  },
  {
   "cell_type": "markdown",
   "metadata": {},
   "source": [
    "#### 9. Transpose *b* so that it has the same structure of *a* (i.e. become a 2x3x5 array). Assign the transposed array to variable *c*."
   ]
  },
  {
   "cell_type": "code",
   "execution_count": 41,
   "metadata": {},
   "outputs": [
    {
     "name": "stdout",
     "output_type": "stream",
     "text": [
      "(2, 3, 5)\n"
     ]
    },
    {
     "data": {
      "text/plain": [
       "array([[[1, 1, 1, 1, 1],\n",
       "        [1, 1, 1, 1, 1],\n",
       "        [1, 1, 1, 1, 1]],\n",
       "\n",
       "       [[1, 1, 1, 1, 1],\n",
       "        [1, 1, 1, 1, 1],\n",
       "        [1, 1, 1, 1, 1]]])"
      ]
     },
     "execution_count": 41,
     "metadata": {},
     "output_type": "execute_result"
    }
   ],
   "source": [
    "# your code here\n",
    "\n",
    "# c = np.transpose(b)\n",
    "c = b.reshape(2,3,5)\n",
    "print(np.shape(c))\n",
    "c"
   ]
  },
  {
   "cell_type": "markdown",
   "metadata": {},
   "source": [
    "#### 10. Try to add *a* and *c*. Now it should work. Assign the sum to variable *d*. But why does it work now?"
   ]
  },
  {
   "cell_type": "code",
   "execution_count": 43,
   "metadata": {},
   "outputs": [
    {
     "name": "stdout",
     "output_type": "stream",
     "text": [
      "[[[1.0128114  1.92039109 1.20330219 1.18537711 1.85330668]\n",
      "  [1.1568059  1.31645932 1.97561248 1.93097352 1.90644725]\n",
      "  [1.43469894 1.15694354 1.74663826 1.63950427 1.65167282]]\n",
      "\n",
      " [[1.03668062 1.32397787 1.72241255 1.27586052 1.09042981]\n",
      "  [1.12452312 1.93956808 1.87186631 1.75051532 1.2342404 ]\n",
      "  [1.31506624 1.9633675  1.51898155 1.43470784 1.40012241]]]\n"
     ]
    }
   ],
   "source": [
    "# your code/answer here\n",
    "\n",
    "d = a + c\n",
    "print(d)\n",
    "\n",
    "# works because theyre the same shape"
   ]
  },
  {
   "cell_type": "markdown",
   "metadata": {},
   "source": [
    "#### 11. Print *a* and *d*. Notice the difference and relation of the two array in terms of the values? Explain."
   ]
  },
  {
   "cell_type": "code",
   "execution_count": 45,
   "metadata": {},
   "outputs": [
    {
     "data": {
      "text/plain": [
       "array([[[0.0128114 , 0.92039109, 0.20330219, 0.18537711, 0.85330668],\n",
       "        [0.1568059 , 0.31645932, 0.97561248, 0.93097352, 0.90644725],\n",
       "        [0.43469894, 0.15694354, 0.74663826, 0.63950427, 0.65167282]],\n",
       "\n",
       "       [[0.03668062, 0.32397787, 0.72241255, 0.27586052, 0.09042981],\n",
       "        [0.12452312, 0.93956808, 0.87186631, 0.75051532, 0.2342404 ],\n",
       "        [0.31506624, 0.9633675 , 0.51898155, 0.43470784, 0.40012241]]])"
      ]
     },
     "metadata": {},
     "output_type": "display_data"
    },
    {
     "data": {
      "text/plain": [
       "array([[[1.0128114 , 1.92039109, 1.20330219, 1.18537711, 1.85330668],\n",
       "        [1.1568059 , 1.31645932, 1.97561248, 1.93097352, 1.90644725],\n",
       "        [1.43469894, 1.15694354, 1.74663826, 1.63950427, 1.65167282]],\n",
       "\n",
       "       [[1.03668062, 1.32397787, 1.72241255, 1.27586052, 1.09042981],\n",
       "        [1.12452312, 1.93956808, 1.87186631, 1.75051532, 1.2342404 ],\n",
       "        [1.31506624, 1.9633675 , 1.51898155, 1.43470784, 1.40012241]]])"
      ]
     },
     "metadata": {},
     "output_type": "display_data"
    }
   ],
   "source": [
    "# your code/answer here\n",
    "\n",
    "display(a)\n",
    "display(d)\n",
    "\n",
    "# array d is array a plus 1"
   ]
  },
  {
   "cell_type": "markdown",
   "metadata": {},
   "source": [
    "#### 12. Multiply *a* and *c*. Assign the result to *e*."
   ]
  },
  {
   "cell_type": "code",
   "execution_count": 47,
   "metadata": {},
   "outputs": [
    {
     "data": {
      "text/plain": [
       "array([[[0.0128114 , 0.92039109, 0.20330219, 0.18537711, 0.85330668],\n",
       "        [0.1568059 , 0.31645932, 0.97561248, 0.93097352, 0.90644725],\n",
       "        [0.43469894, 0.15694354, 0.74663826, 0.63950427, 0.65167282]],\n",
       "\n",
       "       [[0.03668062, 0.32397787, 0.72241255, 0.27586052, 0.09042981],\n",
       "        [0.12452312, 0.93956808, 0.87186631, 0.75051532, 0.2342404 ],\n",
       "        [0.31506624, 0.9633675 , 0.51898155, 0.43470784, 0.40012241]]])"
      ]
     },
     "metadata": {},
     "output_type": "display_data"
    }
   ],
   "source": [
    "# your code here\n",
    "\n",
    "e = a*c\n",
    "display(e)"
   ]
  },
  {
   "cell_type": "markdown",
   "metadata": {},
   "source": [
    "#### 13. Does *e* equal to *a*? Why or why not?\n"
   ]
  },
  {
   "cell_type": "code",
   "execution_count": 48,
   "metadata": {},
   "outputs": [
    {
     "data": {
      "text/plain": [
       "array([[[ True,  True,  True,  True,  True],\n",
       "        [ True,  True,  True,  True,  True],\n",
       "        [ True,  True,  True,  True,  True]],\n",
       "\n",
       "       [[ True,  True,  True,  True,  True],\n",
       "        [ True,  True,  True,  True,  True],\n",
       "        [ True,  True,  True,  True,  True]]])"
      ]
     },
     "execution_count": 48,
     "metadata": {},
     "output_type": "execute_result"
    }
   ],
   "source": [
    "# your code/answer here\n",
    "\n",
    "e == a\n",
    "\n",
    "# yes because it multiplied by 1"
   ]
  },
  {
   "cell_type": "markdown",
   "metadata": {},
   "source": [
    "#### 14. Identify the max, min, and mean values in *d*. Assign those values to variables *d_max*, *d_min* and *d_mean*."
   ]
  },
  {
   "cell_type": "code",
   "execution_count": 51,
   "metadata": {},
   "outputs": [
    {
     "name": "stdout",
     "output_type": "stream",
     "text": [
      "1.9756124829261288 1.01281139550129 1.5031088291130312\n"
     ]
    }
   ],
   "source": [
    "# your code here\n",
    "\n",
    "d_max = d.max()\n",
    "d_min = d.min()\n",
    "d_mean = np.mean(d)\n",
    "\n",
    "print(d_max, d_min, d_mean)"
   ]
  },
  {
   "cell_type": "markdown",
   "metadata": {},
   "source": [
    "#### 15. Now we want to label the values in *d*. First create an empty array *f* with the same shape (i.e. 2x3x5) as *d* using `np.empty`.\n"
   ]
  },
  {
   "cell_type": "code",
   "execution_count": 52,
   "metadata": {},
   "outputs": [
    {
     "data": {
      "text/plain": [
       "array([[[0.0128114 , 0.92039109, 0.20330219, 0.18537711, 0.85330668],\n",
       "        [0.1568059 , 0.31645932, 0.97561248, 0.93097352, 0.90644725],\n",
       "        [0.43469894, 0.15694354, 0.74663826, 0.63950427, 0.65167282]],\n",
       "\n",
       "       [[0.03668062, 0.32397787, 0.72241255, 0.27586052, 0.09042981],\n",
       "        [0.12452312, 0.93956808, 0.87186631, 0.75051532, 0.2342404 ],\n",
       "        [0.31506624, 0.9633675 , 0.51898155, 0.43470784, 0.40012241]]])"
      ]
     },
     "execution_count": 52,
     "metadata": {},
     "output_type": "execute_result"
    }
   ],
   "source": [
    "# your code here\n",
    "\n",
    "f = np.empty((2,3,5))\n",
    "f"
   ]
  },
  {
   "cell_type": "markdown",
   "metadata": {},
   "source": [
    "#### 16. Populate the values in *f*. \n",
    "\n",
    "For each value in *d*, if it's larger than *d_min* but smaller than *d_mean*, assign 25 to the corresponding value in *f*. If a value in *d* is larger than *d_mean* but smaller than *d_max*, assign 75 to the corresponding value in *f*. If a value equals to *d_mean*, assign 50 to the corresponding value in *f*. Assign 0 to the corresponding value(s) in *f* for *d_min* in *d*. Assign 100 to the corresponding value(s) in *f* for *d_max* in *d*. In the end, f should have only the following values: 0, 25, 50, 75, and 100.\n",
    "\n",
    "**Note**: you don't have to use Numpy in this question."
   ]
  },
  {
   "cell_type": "code",
   "execution_count": 61,
   "metadata": {},
   "outputs": [
    {
     "data": {
      "text/plain": [
       "array([[[  0,  75,  25,  25,  75],\n",
       "        [ 25,  25, 100,  75,  75],\n",
       "        [ 25,  25,  75,  75,  75]],\n",
       "\n",
       "       [[ 25,  25,  75,  25,  25],\n",
       "        [ 25,  75,  75,  75,  25],\n",
       "        [ 25,  75,  75,  25,  25]]])"
      ]
     },
     "execution_count": 61,
     "metadata": {},
     "output_type": "execute_result"
    }
   ],
   "source": [
    "# your code here\n",
    "\n",
    "f1 = 25 * (d > d_min) * (d < d_mean) + 75 * (d < d_max) * (d > d_mean) + 0 * (d == d_min) + 100 * (d == d_max)\n",
    "f1\n",
    "                \n",
    "\n"
   ]
  },
  {
   "cell_type": "markdown",
   "metadata": {},
   "source": [
    "#### 17. Print *d* and *f*. Do you have your expected *f*?\n",
    "For instance, if your *d* is:\n",
    "```python\n",
    "[[[1.85836099, 1.67064465, 1.62576044, 1.40243961, 1.88454931],\n",
    "[1.75354326, 1.69403643, 1.36729252, 1.61415071, 1.12104981],\n",
    "[1.72201435, 1.1862918 , 1.87078449, 1.7726778 , 1.88180042]],\n",
    "[[1.44747908, 1.31673383, 1.02000951, 1.52218947, 1.97066381],\n",
    "[1.79129243, 1.74983003, 1.96028037, 1.85166831, 1.65450881],\n",
    "[1.18068344, 1.9587381 , 1.00656599, 1.93402165, 1.73514584]]]\n",
    "```\n",
    "Your *f* should be:\n",
    "```python\n",
    "[[[ 75.,  75.,  75.,  25.,  75.],\n",
    "[ 75.,  75.,  25.,  25.,  25.],\n",
    "[ 75.,  25.,  75.,  75.,  75.]],\n",
    "[[ 25.,  25.,  25.,  25., 100.],\n",
    "[ 75.,  75.,  75.,  75.,  75.],\n",
    "[ 25.,  75.,   0.,  75.,  75.]]]\n",
    "```"
   ]
  },
  {
   "cell_type": "code",
   "execution_count": 62,
   "metadata": {},
   "outputs": [
    {
     "data": {
      "text/plain": [
       "array([[[1.0128114 , 1.92039109, 1.20330219, 1.18537711, 1.85330668],\n",
       "        [1.1568059 , 1.31645932, 1.97561248, 1.93097352, 1.90644725],\n",
       "        [1.43469894, 1.15694354, 1.74663826, 1.63950427, 1.65167282]],\n",
       "\n",
       "       [[1.03668062, 1.32397787, 1.72241255, 1.27586052, 1.09042981],\n",
       "        [1.12452312, 1.93956808, 1.87186631, 1.75051532, 1.2342404 ],\n",
       "        [1.31506624, 1.9633675 , 1.51898155, 1.43470784, 1.40012241]]])"
      ]
     },
     "metadata": {},
     "output_type": "display_data"
    },
    {
     "data": {
      "text/plain": [
       "array([[[  0,  75,  25,  25,  75],\n",
       "        [ 25,  25, 100,  75,  75],\n",
       "        [ 25,  25,  75,  75,  75]],\n",
       "\n",
       "       [[ 25,  25,  75,  25,  25],\n",
       "        [ 25,  75,  75,  75,  25],\n",
       "        [ 25,  75,  75,  25,  25]]])"
      ]
     },
     "metadata": {},
     "output_type": "display_data"
    }
   ],
   "source": [
    "# your code here\n",
    "\n",
    "display(d)\n",
    "display(f1)"
   ]
  },
  {
   "cell_type": "markdown",
   "metadata": {},
   "source": [
    "#### 18. Bonus question: instead of using numbers (i.e. 0, 25, 50, 75, and 100), use string values  (\"A\", \"B\", \"C\", \"D\", and \"E\") to label the array elements. For the example above, the expected result is:\n",
    "\n",
    "```python\n",
    "[[[ 'D',  'D',  'D',  'B',  'D'],\n",
    "[ 'D',  'D',  'B',  'B',  'B'],\n",
    "[ 'D',  'B',  'D',  'D',  'D']],\n",
    "[[ 'B',  'B',  'B',  'B',  'E'],\n",
    "[ 'D',  'D',  'D',  'D',  'D'],\n",
    "[ 'B',  'D',   'A',  'D', 'D']]]\n",
    "```\n",
    "**Note**: you don't have to use Numpy in this question."
   ]
  },
  {
   "cell_type": "code",
   "execution_count": 63,
   "metadata": {},
   "outputs": [],
   "source": [
    "# your code here\n",
    "\n",
    "f2 = [[['B' if d_min<item<d_mean else 'D' if d_mean<item< d_max else 'A' if item == d_min else 'E' for item in in_list] for in_list in out_list] for out_list in d]"
   ]
  },
  {
   "cell_type": "code",
   "execution_count": 64,
   "metadata": {},
   "outputs": [
    {
     "data": {
      "text/plain": [
       "[[['A', 'D', 'B', 'B', 'D'],\n",
       "  ['B', 'B', 'E', 'D', 'D'],\n",
       "  ['B', 'B', 'D', 'D', 'D']],\n",
       " [['B', 'B', 'D', 'B', 'B'],\n",
       "  ['B', 'D', 'D', 'D', 'B'],\n",
       "  ['B', 'D', 'D', 'B', 'B']]]"
      ]
     },
     "execution_count": 64,
     "metadata": {},
     "output_type": "execute_result"
    }
   ],
   "source": [
    "f2"
   ]
  },
  {
   "cell_type": "code",
   "execution_count": null,
   "metadata": {},
   "outputs": [],
   "source": []
  }
 ],
 "metadata": {
  "kernelspec": {
   "display_name": "Python 3",
   "language": "python",
   "name": "python3"
  },
  "language_info": {
   "codemirror_mode": {
    "name": "ipython",
    "version": 3
   },
   "file_extension": ".py",
   "mimetype": "text/x-python",
   "name": "python",
   "nbconvert_exporter": "python",
   "pygments_lexer": "ipython3",
   "version": "3.8.5"
  }
 },
 "nbformat": 4,
 "nbformat_minor": 2
}
